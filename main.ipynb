{
 "cells": [
  {
   "cell_type": "code",
   "execution_count": 1,
   "id": "55fcce9a-bc73-4985-b926-08aca73de37c",
   "metadata": {},
   "outputs": [],
   "source": [
    "import tensorflow as tf\n",
    "from tensorflow.keras import layers, models, regularizers\n",
    "import tensorflow_datasets as tfds\n",
    "import matplotlib.pyplot as plt\n",
    "from sklearn.model_selection import train_test_split\n",
    "import numpy as np"
   ]
  },
  {
   "cell_type": "code",
   "execution_count": 2,
   "id": "a09f17c8",
   "metadata": {},
   "outputs": [],
   "source": [
    "def preprocess_image(lr_img, hr_img):\n",
    "    hr_img = tf.image.central_crop(hr_img, central_fraction=0.5)\n",
    "    hr_img = tf.image.resize(hr_img, (224, 224))\n",
    "    lr_img = tf.image.resize(hr_img, (112, 112))\n",
    "    lr_img = tf.image.resize(lr_img, (224, 224))\n",
    "    return lr_img, hr_img\n",
    "\n",
    "def load_div2k_dataset(num_samples=100):\n",
    "    dataset = tfds.load('div2k', split='train', as_supervised=True)\n",
    "    dataset = dataset.take(num_samples)\n",
    "    lr_images = []\n",
    "    hr_images = []\n",
    "    for lr_img, hr_img in tfds.as_numpy(dataset):\n",
    "        lr_img, hr_img = preprocess_image(lr_img, hr_img)\n",
    "        lr_images.append(lr_img)\n",
    "        hr_images.append(hr_img)\n",
    "    return np.array(lr_images), np.array(hr_images)\n",
    "\n",
    "lr_images, hr_images = load_div2k_dataset()"
   ]
  },
  {
   "cell_type": "code",
   "execution_count": 3,
   "id": "b5aa9609",
   "metadata": {},
   "outputs": [],
   "source": [
    "def split_data(lr_images, hr_images, train_ratio=0.6, val_ratio=0.2):\n",
    "    lr_train, lr_temp, hr_train, hr_temp = train_test_split(lr_images, hr_images, train_size=train_ratio)\n",
    "    val_size = val_ratio / (1 - train_ratio)\n",
    "    lr_val, lr_test, hr_val, hr_test = train_test_split(lr_temp, hr_temp, train_size=val_size)\n",
    "    return lr_train, lr_val, lr_test, hr_train, hr_val, hr_test\n",
    "\n",
    "lr_train, lr_val, lr_test, hr_train, hr_val, hr_test = split_data(lr_images, hr_images)"
   ]
  },
  {
   "cell_type": "code",
   "execution_count": 4,
   "id": "80d4aaee",
   "metadata": {},
   "outputs": [],
   "source": [
    "def psnr_metric(y_true, y_pred):\n",
    "    return tf.image.psnr(y_true, y_pred, max_val=255.0)"
   ]
  },
  {
   "cell_type": "code",
   "execution_count": 5,
   "id": "3073b400",
   "metadata": {},
   "outputs": [],
   "source": [
    "def build_srcnn_model():\n",
    "    input_layer = layers.Input(shape=(224, 224, 3))\n",
    "    x = layers.Conv2D(64, (9, 9), activation='relu', padding='same')(input_layer)\n",
    "    x = layers.Conv2D(32, (5, 5), activation='relu', padding='same')(x)\n",
    "    x = layers.Conv2D(3, (5, 5), activation='linear', padding='same')(x)\n",
    "    output_layer = layers.Add()([input_layer, x])\n",
    "    model = models.Model(inputs=input_layer, outputs=output_layer)\n",
    "    lr_schedule = tf.keras.optimizers.schedules.ExponentialDecay(\n",
    "    initial_learning_rate=0.0001,\n",
    "    decay_steps=10000,\n",
    "    decay_rate=0.9)\n",
    "    model.compile(optimizer=tf.keras.optimizers.Adam(learning_rate=lr_schedule), loss='mean_squared_error', metrics=[psnr_metric])\n",
    "    return model\n",
    "\n",
    "srcnn_model = build_srcnn_model()"
   ]
  },
  {
   "cell_type": "code",
   "execution_count": null,
   "id": "c1d4c4e3",
   "metadata": {},
   "outputs": [],
   "source": [
    "def build_srcnn_reg_model(reg_factor=1e-4):\n",
    "    model = models.Sequential([\n",
    "        layers.Conv2D(64, (9, 9), activation='relu', padding='same', kernel_regularizer=regularizers.l2(reg_factor), input_shape=(224, 224, 3)),\n",
    "        layers.Conv2D(32, (5, 5), activation='relu', padding='same', kernel_regularizer=regularizers.l2(reg_factor)),\n",
    "        layers.Conv2D(3, (5, 5), activation='linear', padding='same')\n",
    "    ])\n",
    "    model.compile(optimizer=tf.keras.optimizers.Adam(learning_rate=0.0001), loss='mean_squared_error', metrics=[psnr_metric])\n",
    "    return model\n",
    "\n",
    "srcnn_reg_model = build_srcnn_reg_model()"
   ]
  }
 ],
 "metadata": {
  "kernelspec": {
   "display_name": "Python 3 (ipykernel)",
   "language": "python",
   "name": "python3"
  },
  "language_info": {
   "codemirror_mode": {
    "name": "ipython",
    "version": 3
   },
   "file_extension": ".py",
   "mimetype": "text/x-python",
   "name": "python",
   "nbconvert_exporter": "python",
   "pygments_lexer": "ipython3",
   "version": "3.12.3"
  }
 },
 "nbformat": 4,
 "nbformat_minor": 5
}
