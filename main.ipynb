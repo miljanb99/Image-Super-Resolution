{
 "cells": [
  {
   "cell_type": "code",
   "execution_count": 2,
   "id": "55fcce9a-bc73-4985-b926-08aca73de37c",
   "metadata": {},
   "outputs": [
    {
     "name": "stderr",
     "output_type": "stream",
     "text": [
      "2024-08-12 08:49:01.196460: I tensorflow/core/util/port.cc:153] oneDNN custom operations are on. You may see slightly different numerical results due to floating-point round-off errors from different computation orders. To turn them off, set the environment variable `TF_ENABLE_ONEDNN_OPTS=0`.\n",
      "2024-08-12 08:49:01.197170: I external/local_xla/xla/tsl/cuda/cudart_stub.cc:32] Could not find cuda drivers on your machine, GPU will not be used.\n",
      "2024-08-12 08:49:01.202627: I external/local_xla/xla/tsl/cuda/cudart_stub.cc:32] Could not find cuda drivers on your machine, GPU will not be used.\n",
      "2024-08-12 08:49:01.216623: E external/local_xla/xla/stream_executor/cuda/cuda_fft.cc:485] Unable to register cuFFT factory: Attempting to register factory for plugin cuFFT when one has already been registered\n",
      "2024-08-12 08:49:01.238714: E external/local_xla/xla/stream_executor/cuda/cuda_dnn.cc:8454] Unable to register cuDNN factory: Attempting to register factory for plugin cuDNN when one has already been registered\n",
      "2024-08-12 08:49:01.245524: E external/local_xla/xla/stream_executor/cuda/cuda_blas.cc:1452] Unable to register cuBLAS factory: Attempting to register factory for plugin cuBLAS when one has already been registered\n",
      "2024-08-12 08:49:01.262146: I tensorflow/core/platform/cpu_feature_guard.cc:210] This TensorFlow binary is optimized to use available CPU instructions in performance-critical operations.\n",
      "To enable the following instructions: AVX2 AVX512F AVX512_VNNI FMA, in other operations, rebuild TensorFlow with the appropriate compiler flags.\n",
      "2024-08-12 08:49:02.536627: W tensorflow/compiler/tf2tensorrt/utils/py_utils.cc:38] TF-TRT Warning: Could not find TensorRT\n"
     ]
    }
   ],
   "source": [
    "import tensorflow as tf\n",
    "from tensorflow.keras import layers, models, regularizers\n",
    "import tensorflow_datasets as tfds\n",
    "import matplotlib.pyplot as plt\n",
    "from sklearn.model_selection import train_test_split\n",
    "import numpy as np"
   ]
  },
  {
   "cell_type": "code",
   "execution_count": 3,
   "id": "a09f17c8",
   "metadata": {},
   "outputs": [
    {
     "name": "stderr",
     "output_type": "stream",
     "text": [
      "2024-08-12 08:49:13.023100: I tensorflow/core/framework/local_rendezvous.cc:404] Local rendezvous is aborting with status: OUT_OF_RANGE: End of sequence\n"
     ]
    }
   ],
   "source": [
    "def preprocess_image(lr_img, hr_img):\n",
    "    hr_img = tf.image.central_crop(hr_img, central_fraction=0.5)\n",
    "    hr_img = tf.image.resize(hr_img, (224, 224))\n",
    "    lr_img = tf.image.resize(hr_img, (112, 112))\n",
    "    lr_img = tf.image.resize(lr_img, (224, 224))\n",
    "    return lr_img, hr_img\n",
    "\n",
    "def load_div2k_dataset(num_samples=100):\n",
    "    dataset = tfds.load('div2k', split='train', as_supervised=True)\n",
    "    dataset = dataset.take(num_samples)\n",
    "    lr_images = []\n",
    "    hr_images = []\n",
    "    for lr_img, hr_img in tfds.as_numpy(dataset):\n",
    "        lr_img, hr_img = preprocess_image(lr_img, hr_img)\n",
    "        lr_images.append(lr_img)\n",
    "        hr_images.append(hr_img)\n",
    "    return np.array(lr_images), np.array(hr_images)\n",
    "\n",
    "lr_images, hr_images = load_div2k_dataset()"
   ]
  },
  {
   "cell_type": "code",
   "execution_count": 4,
   "id": "b5aa9609",
   "metadata": {},
   "outputs": [],
   "source": [
    "def split_data(lr_images, hr_images, train_ratio=0.6, val_ratio=0.2):\n",
    "    lr_train, lr_temp, hr_train, hr_temp = train_test_split(lr_images, hr_images, train_size=train_ratio)\n",
    "    val_size = val_ratio / (1 - train_ratio)\n",
    "    lr_val, lr_test, hr_val, hr_test = train_test_split(lr_temp, hr_temp, train_size=val_size)\n",
    "    return lr_train, lr_val, lr_test, hr_train, hr_val, hr_test\n",
    "\n",
    "lr_train, lr_val, lr_test, hr_train, hr_val, hr_test = split_data(lr_images, hr_images)"
   ]
  },
  {
   "cell_type": "code",
   "execution_count": 5,
   "id": "80d4aaee",
   "metadata": {},
   "outputs": [],
   "source": [
    "def psnr_metric(y_true, y_pred):\n",
    "    return tf.image.psnr(y_true, y_pred, max_val=255.0)"
   ]
  },
  {
   "cell_type": "code",
   "execution_count": 6,
   "id": "3073b400",
   "metadata": {},
   "outputs": [],
   "source": [
    "def build_srcnn_model():\n",
    "    input_layer = layers.Input(shape=(224, 224, 3))\n",
    "    x = layers.Conv2D(64, (9, 9), activation='relu', padding='same')(input_layer)\n",
    "    x = layers.Conv2D(32, (5, 5), activation='relu', padding='same')(x)\n",
    "    x = layers.Conv2D(3, (5, 5), activation='linear', padding='same')(x)\n",
    "    output_layer = layers.Add()([input_layer, x])\n",
    "    model = models.Model(inputs=input_layer, outputs=output_layer)\n",
    "    lr_schedule = tf.keras.optimizers.schedules.ExponentialDecay(\n",
    "    initial_learning_rate=0.0001,\n",
    "    decay_steps=10000,\n",
    "    decay_rate=0.9)\n",
    "    model.compile(optimizer=tf.keras.optimizers.Adam(learning_rate=lr_schedule), loss='mean_squared_error', metrics=[psnr_metric])\n",
    "    return model\n",
    "\n",
    "srcnn_model = build_srcnn_model()"
   ]
  },
  {
   "cell_type": "code",
   "execution_count": 7,
   "id": "c1d4c4e3",
   "metadata": {},
   "outputs": [
    {
     "name": "stderr",
     "output_type": "stream",
     "text": [
      "/home/miljan/Image-Super-Resolution/my_env/lib/python3.12/site-packages/keras/src/layers/convolutional/base_conv.py:107: UserWarning: Do not pass an `input_shape`/`input_dim` argument to a layer. When using Sequential models, prefer using an `Input(shape)` object as the first layer in the model instead.\n",
      "  super().__init__(activity_regularizer=activity_regularizer, **kwargs)\n"
     ]
    }
   ],
   "source": [
    "def build_srcnn_reg_model(reg_factor=1e-4):\n",
    "    model = models.Sequential([\n",
    "        layers.Conv2D(64, (9, 9), activation='relu', padding='same', kernel_regularizer=regularizers.l2(reg_factor), input_shape=(224, 224, 3)),\n",
    "        layers.Conv2D(32, (5, 5), activation='relu', padding='same', kernel_regularizer=regularizers.l2(reg_factor)),\n",
    "        layers.Conv2D(3, (5, 5), activation='linear', padding='same')\n",
    "    ])\n",
    "    model.compile(optimizer=tf.keras.optimizers.Adam(learning_rate=0.0001), loss='mean_squared_error', metrics=[psnr_metric])\n",
    "    return model\n",
    "\n",
    "srcnn_reg_model = build_srcnn_reg_model()"
   ]
  },
  {
   "cell_type": "code",
   "execution_count": 8,
   "id": "2e5bfde5-e11c-4c41-b4e7-4814efba8772",
   "metadata": {},
   "outputs": [],
   "source": [
    "def build_srcnn_tanh_model():\n",
    "    model = models.Sequential([\n",
    "        layers.Input(shape=(224, 224, 3)),\n",
    "        layers.Lambda(lambda x: (x / 127.5) - 1.0),  # Normalize to [-1, 1]\n",
    "        layers.Conv2D(64, (9, 9), activation='relu', padding='same'),\n",
    "        layers.Conv2D(32, (5, 5), activation='relu', padding='same'),\n",
    "        layers.Conv2D(3, (5, 5), activation='linear', padding='same'),\n",
    "        layers.Lambda(lambda x: (x + 1.0) * 127.5)  # De-normalize to [0, 255]\n",
    "    ])\n",
    "    model.compile(optimizer=tf.keras.optimizers.Adam(learning_rate=0.0001), loss='mean_squared_error', metrics=[psnr_metric])\n",
    "    return model\n",
    "\n",
    "srcnn_tanh_model = build_srcnn_tanh_model()"
   ]
  },
  {
   "cell_type": "code",
   "execution_count": 9,
   "id": "8bd12b37-7358-4411-ac76-4ae49bd5d619",
   "metadata": {},
   "outputs": [],
   "source": [
    "def build_srcnn_batchnorm_model():\n",
    "    model = models.Sequential([\n",
    "        layers.Conv2D(64, (9, 9), padding='same', input_shape=(224, 224, 3)),\n",
    "        layers.BatchNormalization(),\n",
    "        layers.Activation('relu'),\n",
    "        layers.Conv2D(32, (5, 5), padding='same'),\n",
    "        layers.BatchNormalization(),\n",
    "        layers.Activation('relu'),\n",
    "        layers.Conv2D(3, (5, 5), activation='linear', padding='same')\n",
    "    ])\n",
    "    model.compile(optimizer=tf.keras.optimizers.Adam(learning_rate=0.0001), loss='mean_squared_error', metrics=[psnr_metric])\n",
    "    return model\n",
    "\n",
    "srcnn_batchnorm_model = build_srcnn_batchnorm_model()"
   ]
  },
  {
   "cell_type": "code",
   "execution_count": null,
   "id": "d2dcc9d3-1673-46c7-b3e8-1fc75d42fda4",
   "metadata": {},
   "outputs": [],
   "source": []
  }
 ],
 "metadata": {
  "kernelspec": {
   "display_name": "Python 3 (ipykernel)",
   "language": "python",
   "name": "python3"
  },
  "language_info": {
   "codemirror_mode": {
    "name": "ipython",
    "version": 3
   },
   "file_extension": ".py",
   "mimetype": "text/x-python",
   "name": "python",
   "nbconvert_exporter": "python",
   "pygments_lexer": "ipython3",
   "version": "3.12.3"
  }
 },
 "nbformat": 4,
 "nbformat_minor": 5
}
